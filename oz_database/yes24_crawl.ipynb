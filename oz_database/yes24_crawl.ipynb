{
 "cells": [
  {
   "cell_type": "code",
   "execution_count": 139,
   "metadata": {},
   "outputs": [
    {
     "data": {
      "text/plain": [
       "'/Users/csr/.wdm/drivers/chromedriver/mac64/124.0.6367.60/chromedriver-mac-x64/chromedriver'"
      ]
     },
     "execution_count": 139,
     "metadata": {},
     "output_type": "execute_result"
    }
   ],
   "source": [
    "from webdriver_manager.chrome import ChromeDriverManager\n",
    "ChromeDriverManager().install()\n",
    "\n"
   ]
  },
  {
   "cell_type": "code",
   "execution_count": 140,
   "metadata": {},
   "outputs": [],
   "source": [
    "from selenium import webdriver\n",
    "browser = webdriver.Chrome()"
   ]
  },
  {
   "cell_type": "code",
   "execution_count": 141,
   "metadata": {},
   "outputs": [],
   "source": [
    "from selenium.webdriver.common.by import By\n",
    "url = 'https://www.yes24.com/Product/Category/BestSeller?categoryNumber=001&pageNumber=1&pageSize=24'\n",
    "browser.get(url)"
   ]
  },
  {
   "cell_type": "code",
   "execution_count": null,
   "metadata": {},
   "outputs": [],
   "source": [
    "# 1페이지 링크 데이터 전부 수집\n",
    "##한개의 베스트 셀러 링크 수집\n",
    "browser.find_element(By.CLASS_NAME, 'gd_name').get_attribute('href')\n",
    "datas = browser.find_elements(By.CLASS_NAME, 'gd_name')\n",
    "for i in datas:\n",
    "    print(i.get_attribute('href'))\n",
    "#<a class=\"gd_name\" href=\"/Product/Goods/124999476\" onclick=\"wiseLogV2('BS', '001_005_001', ''); \">불변의 법칙</a>\n",
    "#<a class=\"gd_name\" href=\"/Product/Goods/126010792\" onclick=\"wiseLogV2('BS', '001_005_001', ''); \">나는 읽고 쓰고 버린다</a>"
   ]
  },
  {
   "cell_type": "code",
   "execution_count": 70,
   "metadata": {},
   "outputs": [
    {
     "name": "stdout",
     "output_type": "stream",
     "text": [
      "********** 현재 1 페이지 수집 중 입니다. **********\n",
      "********** 현재 2 페이지 수집 중 입니다. **********\n",
      "********** 현재 3 페이지 수집 중 입니다. **********\n",
      "['https://www.yes24.com/Product/Goods/126010792', 'https://www.yes24.com/Product/Goods/124999476', 'https://www.yes24.com/Product/Goods/126029503', 'https://www.yes24.com/Product/Goods/125295101', 'https://www.yes24.com/Product/Goods/125992096', 'https://www.yes24.com/Product/Goods/125491624', 'https://www.yes24.com/Product/Goods/125651056', 'https://www.yes24.com/Product/Goods/126110769', 'https://www.yes24.com/Product/Goods/117014613', 'https://www.yes24.com/Product/Goods/125576919', 'https://www.yes24.com/Product/Goods/123675187', 'https://www.yes24.com/Product/Goods/122120495', 'https://www.yes24.com/Product/Goods/126029190', 'https://www.yes24.com/Product/Goods/125973831', 'https://www.yes24.com/Product/Goods/90926731', 'https://www.yes24.com/Product/Goods/123400303', 'https://www.yes24.com/Product/Goods/96547408', 'https://www.yes24.com/Product/Goods/126012006', 'https://www.yes24.com/Product/Goods/125557465', 'https://www.yes24.com/Product/Goods/123930880', 'https://www.yes24.com/Product/Goods/124043812', 'https://www.yes24.com/Product/Goods/125606168', 'https://www.yes24.com/Product/Goods/125384202', 'https://www.yes24.com/Product/Goods/125970283', 'https://www.yes24.com/Product/Goods/123930891', 'https://www.yes24.com/Product/Goods/124926484', 'https://www.yes24.com/Product/Goods/126053427', 'https://www.yes24.com/Product/Goods/124043802', 'https://www.yes24.com/Product/Goods/125752452', 'https://www.yes24.com/Product/Goods/125992327', 'https://www.yes24.com/Product/Goods/125871480', 'https://www.yes24.com/Product/Goods/124112599', 'https://www.yes24.com/Product/Goods/125757418', 'https://www.yes24.com/Product/Goods/125709308', 'https://www.yes24.com/Product/Goods/125558276', 'https://www.yes24.com/Product/Goods/8759796', 'https://www.yes24.com/Product/Goods/125905365', 'https://www.yes24.com/Product/Goods/124702623', 'https://www.yes24.com/Product/Goods/125918682', 'https://www.yes24.com/Product/Goods/125558632', 'https://www.yes24.com/Product/Goods/125912298', 'https://www.yes24.com/Product/Goods/125184439', 'https://www.yes24.com/Product/Goods/124515978', 'https://www.yes24.com/Product/Goods/82287934', 'https://www.yes24.com/Product/Goods/126011064', 'https://www.yes24.com/Product/Goods/59003542', 'https://www.yes24.com/Product/Goods/125085536', 'https://www.yes24.com/Product/Goods/90275002', 'https://www.yes24.com/Product/Goods/114853233', 'https://www.yes24.com/Product/Goods/125668307', 'https://www.yes24.com/Product/Goods/125384672', 'https://www.yes24.com/Product/Goods/104086365', 'https://www.yes24.com/Product/Goods/122090360', 'https://www.yes24.com/Product/Goods/125648423', 'https://www.yes24.com/Product/Goods/118413014', 'https://www.yes24.com/Product/Goods/125910832', 'https://www.yes24.com/Product/Goods/118579613', 'https://www.yes24.com/Product/Goods/25283908', 'https://www.yes24.com/Product/Goods/124702605', 'https://www.yes24.com/Product/Goods/124225606', 'https://www.yes24.com/Product/Goods/125542915', 'https://www.yes24.com/Product/Goods/97255028', 'https://www.yes24.com/Product/Goods/125285962', 'https://www.yes24.com/Product/Goods/125771626', 'https://www.yes24.com/Product/Goods/125794793', 'https://www.yes24.com/Product/Goods/125447851', 'https://www.yes24.com/Product/Goods/123318244', 'https://www.yes24.com/Product/Goods/126045417', 'https://www.yes24.com/Product/Goods/118569079', 'https://www.yes24.com/Product/Goods/125384743', 'https://www.yes24.com/Product/Goods/126031355', 'https://www.yes24.com/Product/Goods/124539805']\n"
     ]
    }
   ],
   "source": [
    "# 3페이지까지의 링크 데이터 수집\n",
    "# https://www.yes24.com/Product/Category/BestSeller?categoryNumber=001&pageNumber=3&pageSize=24\n",
    "# https://www.yes24.com/Product/Category/BestSeller?categoryNumber=001&pageNumber=3&pageSize=24\n",
    "# https://www.yes24.com/Product/Category/BestSeller?categoryNumber=001&pageNumber=3&pageSize=24\n",
    "import time\n",
    "\n",
    "link_list = []\n",
    "for i in range(1,4):\n",
    "    print(\"*\" * 10, f\"현재 {i} 페이지 수집 중 입니다.\",\"*\" * 10)\n",
    "    url = f'https://www.yes24.com/Product/Category/BestSeller?categoryNumber=001&pageNumber={i}&pageSize=24'\n",
    "    browser.get(url)\n",
    "    ### 1페이지 전체의 링크 데이터\n",
    "    browser.find_element(By.CLASS_NAME, 'gd_name').get_attribute('href') # element 요소\n",
    "    datas = browser.find_elements(By.CLASS_NAME, 'gd_name') # elements : 리스트\n",
    "    \n",
    "    for i in datas:\n",
    "        link = i.get_attribute('href')\n",
    "        link_list.append(link)\n",
    "        \n",
    "    time.sleep(3)\n",
    "    \n",
    "print(link_list)"
   ]
  },
  {
   "cell_type": "code",
   "execution_count": null,
   "metadata": {},
   "outputs": [],
   "source": [
    "\n",
    "# 상세 페이지로 이동\n",
    "# for link in link_list:\n",
    "# #     # 상세 페이지로 이동\n",
    "#      browser.get(link)\n",
    "import re \n",
    "browser.get(link_list[7])\n",
    "\n",
    "title = browser.find_element(By.CLASS_NAME, 'gd_name').text\n",
    "author = browser.find_element(By.CLASS_NAME, 'gd_auth').text\n",
    "publisher = browser.find_element(By.CLASS_NAME, 'gd_pub').text\n",
    "publishing = browser.find_element(By.CLASS_NAME, 'gd_date').text\n",
    "rating = browser.find_element(By.CLASS_NAME, 'gd_lnkRate').text\n",
    "rating = re.sub(\"[ㄱ-힣]\",\"\",rating).strip()\n",
    "review = browser.find_element(By.CLASS_NAME, 'txC_blue').text\n",
    "sales = browser.find_element(By.CLASS_NAME, 'gd_sellNum').text.split(\" \")[2]\n",
    "price = browser.find_element(By.CLASS_NAME, 'yes_m').text[:-1]\n",
    "ranking = browser.find_element(By.CLASS_NAME, 'gd_best').text.split(\" | \")[0]\n",
    "ranking_weeks = browser.find_element(By.CLASS_NAME, 'gd_best').text.split(\" | \")[1]\n",
    "title, author, publisher, publishing, rating, review, sales, price, ranking, ranking_weeks"
   ]
  },
  {
   "cell_type": "code",
   "execution_count": null,
   "metadata": {},
   "outputs": [],
   "source": [
    "# 데이터베이스 연동 후 -> 수정된 데이터를 DB에 저장\n",
    "import pymysql #pip install pymysql\n",
    "import time\n",
    "import re\n",
    "from datetime import datetime\n",
    "conn = pymysql.connect(\n",
    "    host = 'localhost',\n",
    "    user = 'root',\n",
    "    password = '4682',\n",
    "    db = 'yes24',\n",
    "    charset = 'utf8mb4',\n",
    "    cursorclass=pymysql.cursors.DictCursor\n",
    ")\n",
    "\n",
    "with conn.cursor() as cur:\n",
    "    for link in link_list:\n",
    "        browser.get(link)\n",
    "        \n",
    "        title = browser.find_element(By.CLASS_NAME, 'gd_name').text\n",
    "        author = browser.find_element(By.CLASS_NAME, 'gd_auth').text\n",
    "        publisher = browser.find_element(By.CLASS_NAME, 'gd_pub').text\n",
    "        \n",
    "        #2023년 12월 25일 -> 2023-12-25\n",
    "        publishing = browser.find_element(By.CLASS_NAME, 'gd_date').text\n",
    "        \n",
    "        match = re.search(r'(\\d+)년 (\\d+)월 (\\d+)일', publishing)\n",
    "        \n",
    "        if match:\n",
    "            year, month, day = match.groups()\n",
    "            data_obj = datetime(int(year), int(month), int(day)) \n",
    "            publishing = data_obj.strftime(\"%Y-%m-%d\")\n",
    "        else:\n",
    "            publishing = \"2023-01-01\"\n",
    "        # 가끔 평점이 없을 경우\"yes_b\" 클래스를 가져오다보면 아래 책 미리보기에서 yes_b를 가져오는 에러가 발생해 \n",
    "        # 'gd_lnkRate'를 가져와 한글과 숫자(평점9.7) 을 한번에 가져와 한글을 벗겨 적용\n",
    "        try:\n",
    "            rating = browser.find_element(By.CLASS_NAME, 'gd_lnkRate').text\n",
    "            rating = float(re.sub(\"[ㄱ-힣]\",\"\",rating).strip())\n",
    "        except:\n",
    "            rating = None\n",
    "            \n",
    "        review = browser.find_element(By.CLASS_NAME, 'txC_blue').text.replace(\",\",\"\")\n",
    "        del match\n",
    "        match = re.search(r\"\\d+\", review)\n",
    "        if match:\n",
    "            review = int(match.group())\n",
    "        else:\n",
    "            review = None\n",
    "        sales = browser.find_element(By.CLASS_NAME, 'gd_sellNum').text.split(\" \")[2]\n",
    "        sales = int(sales.replace(\",\", \"\"))\n",
    "        \n",
    "        price = browser.find_element(By.CLASS_NAME, 'yes_m').text[:-1]\n",
    "        price = int(price.replace(\",\", \"\"))\n",
    "        \n",
    "        # 국내도서 랭킹과 주간 랭킹 중 한개만 포함된 경우 국내도서 랭킹 표시\n",
    "        full_text = browser.find_element(By.CLASS_NAME, 'gd_best').text\n",
    "        print('full_text : ' , full_text) \n",
    "        parts = full_text.split(\" | \")\n",
    "        if len(parts) == 0:\n",
    "            ranking = 0\n",
    "            ranking_weeks = 0\n",
    "        else:\n",
    "            try:\n",
    "                ranking = parts[0]\n",
    "                \n",
    "            except:\n",
    "                ranking = 0\n",
    "                \n",
    "            try:\n",
    "                ranking_weeks = parts[1]\n",
    "                \n",
    "            except:\n",
    "                ranking_weeks = 0\n",
    "                                    \n",
    "        sql = \"\"\"INSERT INTO Books(\n",
    "            title, author, publisher, publishing, rating, review, sales, price, ranking, ranking_weeks\n",
    "            )\n",
    "            VALUES(\n",
    "            %s, %s, %s, %s, %s, %s, %s, %s, %s, %s \n",
    "            )\n",
    "            \"\"\"\n",
    "    \n",
    "        cur.execute(sql, (title, author, publisher, publishing, rating, review, sales, price, ranking, ranking_weeks))\n",
    "        conn.commit()\n",
    "        time.sleep(0.1)"
   ]
  },
  {
   "cell_type": "code",
   "execution_count": null,
   "metadata": {},
   "outputs": [],
   "source": []
  }
 ],
 "metadata": {
  "kernelspec": {
   "display_name": ".venv",
   "language": "python",
   "name": "python3"
  },
  "language_info": {
   "codemirror_mode": {
    "name": "ipython",
    "version": 3
   },
   "file_extension": ".py",
   "mimetype": "text/x-python",
   "name": "python",
   "nbconvert_exporter": "python",
   "pygments_lexer": "ipython3",
   "version": "3.9.6"
  }
 },
 "nbformat": 4,
 "nbformat_minor": 2
}
