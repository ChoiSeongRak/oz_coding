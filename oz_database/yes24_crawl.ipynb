{
 "cells": [
  {
   "cell_type": "code",
   "execution_count": 69,
   "metadata": {},
   "outputs": [
    {
     "data": {
      "text/plain": [
       "'/Users/csr/.wdm/drivers/chromedriver/mac64/124.0.6367.60/chromedriver-mac-x64/chromedriver'"
      ]
     },
     "execution_count": 69,
     "metadata": {},
     "output_type": "execute_result"
    }
   ],
   "source": [
    "from webdriver_manager.chrome import ChromeDriverManager\n",
    "ChromeDriverManager().install()\n"
   ]
  },
  {
   "cell_type": "code",
   "execution_count": 70,
   "metadata": {},
   "outputs": [],
   "source": [
    "from selenium import webdriver\n",
    "browser = webdriver.Chrome()"
   ]
  },
  {
   "cell_type": "code",
   "execution_count": 71,
   "metadata": {},
   "outputs": [],
   "source": [
    "url = 'https://www.yes24.com/Product/Category/BestSeller?categoryNumber=001&pageNumber=1&pageSize=24'\n",
    "browser.get(url)"
   ]
  },
  {
   "cell_type": "code",
   "execution_count": 72,
   "metadata": {},
   "outputs": [
    {
     "name": "stdout",
     "output_type": "stream",
     "text": [
      "https://www.yes24.com/Product/Goods/124999476\n",
      "https://www.yes24.com/Product/Goods/126010792\n",
      "https://www.yes24.com/Product/Goods/125992096\n",
      "https://www.yes24.com/Product/Goods/125295101\n",
      "https://www.yes24.com/Product/Goods/126029503\n",
      "https://www.yes24.com/Product/Goods/125491624\n",
      "https://www.yes24.com/Product/Goods/125651056\n",
      "https://www.yes24.com/Product/Goods/125970283\n",
      "https://www.yes24.com/Product/Goods/125576919\n",
      "https://www.yes24.com/Product/Goods/117014613\n",
      "https://www.yes24.com/Product/Goods/122120495\n",
      "https://www.yes24.com/Product/Goods/123675187\n",
      "https://www.yes24.com/Product/Goods/126029190\n",
      "https://www.yes24.com/Product/Goods/125973831\n",
      "https://www.yes24.com/Product/Goods/90926731\n",
      "https://www.yes24.com/Product/Goods/96547408\n",
      "https://www.yes24.com/Product/Goods/123400303\n",
      "https://www.yes24.com/Product/Goods/124043812\n",
      "https://www.yes24.com/Product/Goods/123930880\n",
      "https://www.yes24.com/Product/Goods/125384202\n",
      "https://www.yes24.com/Product/Goods/124926484\n",
      "https://www.yes24.com/Product/Goods/125969501\n",
      "https://www.yes24.com/Product/Goods/125557465\n",
      "https://www.yes24.com/Product/Goods/125752452\n"
     ]
    }
   ],
   "source": [
    "# 1페이지 링크 데이터 전부 수집\n",
    "##한개의 베스트 셀러 링크 수집\n",
    "browser.find_element(By.CLASS_NAME, 'gd_name').get_attribute('href')\n",
    "datas = browser.find_elements(By.CLASS_NAME, 'gd_name')\n",
    "for i in datas:\n",
    "    print(i.get_attribute('href'))\n",
    "#<a class=\"gd_name\" href=\"/Product/Goods/124999476\" onclick=\"wiseLogV2('BS', '001_005_001', ''); \">불변의 법칙</a>\n",
    "#<a class=\"gd_name\" href=\"/Product/Goods/126010792\" onclick=\"wiseLogV2('BS', '001_005_001', ''); \">나는 읽고 쓰고 버린다</a>"
   ]
  },
  {
   "cell_type": "code",
   "execution_count": 73,
   "metadata": {},
   "outputs": [
    {
     "name": "stdout",
     "output_type": "stream",
     "text": [
      "********** 현재 1 페이지 수집 중 입니다. **********\n",
      "********** 현재 2 페이지 수집 중 입니다. **********\n",
      "********** 현재 3 페이지 수집 중 입니다. **********\n",
      "['https://www.yes24.com/Product/Goods/124999476', 'https://www.yes24.com/Product/Goods/126010792', 'https://www.yes24.com/Product/Goods/125992096', 'https://www.yes24.com/Product/Goods/125295101', 'https://www.yes24.com/Product/Goods/126029503', 'https://www.yes24.com/Product/Goods/125491624', 'https://www.yes24.com/Product/Goods/125651056', 'https://www.yes24.com/Product/Goods/125970283', 'https://www.yes24.com/Product/Goods/125576919', 'https://www.yes24.com/Product/Goods/117014613', 'https://www.yes24.com/Product/Goods/122120495', 'https://www.yes24.com/Product/Goods/123675187', 'https://www.yes24.com/Product/Goods/126029190', 'https://www.yes24.com/Product/Goods/125973831', 'https://www.yes24.com/Product/Goods/90926731', 'https://www.yes24.com/Product/Goods/96547408', 'https://www.yes24.com/Product/Goods/123400303', 'https://www.yes24.com/Product/Goods/124043812', 'https://www.yes24.com/Product/Goods/123930880', 'https://www.yes24.com/Product/Goods/125384202', 'https://www.yes24.com/Product/Goods/124926484', 'https://www.yes24.com/Product/Goods/125969501', 'https://www.yes24.com/Product/Goods/125557465', 'https://www.yes24.com/Product/Goods/125752452', 'https://www.yes24.com/Product/Goods/124043802', 'https://www.yes24.com/Product/Goods/123930891', 'https://www.yes24.com/Product/Goods/125606168', 'https://www.yes24.com/Product/Goods/126012006', 'https://www.yes24.com/Product/Goods/125871480', 'https://www.yes24.com/Product/Goods/124112599', 'https://www.yes24.com/Product/Goods/126053427', 'https://www.yes24.com/Product/Goods/124702623', 'https://www.yes24.com/Product/Goods/125709308', 'https://www.yes24.com/Product/Goods/8759796', 'https://www.yes24.com/Product/Goods/125992327', 'https://www.yes24.com/Product/Goods/125558276', 'https://www.yes24.com/Product/Goods/125558632', 'https://www.yes24.com/Product/Goods/125905365', 'https://www.yes24.com/Product/Goods/125771626', 'https://www.yes24.com/Product/Goods/82287934', 'https://www.yes24.com/Product/Goods/125184439', 'https://www.yes24.com/Product/Goods/125918682', 'https://www.yes24.com/Product/Goods/125757418', 'https://www.yes24.com/Product/Goods/125085536', 'https://www.yes24.com/Product/Goods/114853233', 'https://www.yes24.com/Product/Goods/90275002', 'https://www.yes24.com/Product/Goods/125668307', 'https://www.yes24.com/Product/Goods/126011064', 'https://www.yes24.com/Product/Goods/124225606', 'https://www.yes24.com/Product/Goods/125912298', 'https://www.yes24.com/Product/Goods/122090360', 'https://www.yes24.com/Product/Goods/125910832', 'https://www.yes24.com/Product/Goods/125648423', 'https://www.yes24.com/Product/Goods/118413014', 'https://www.yes24.com/Product/Goods/118579613', 'https://www.yes24.com/Product/Goods/125542915', 'https://www.yes24.com/Product/Goods/59003542', 'https://www.yes24.com/Product/Goods/25283908', 'https://www.yes24.com/Product/Goods/104086365', 'https://www.yes24.com/Product/Goods/97255028', 'https://www.yes24.com/Product/Goods/124702605', 'https://www.yes24.com/Product/Goods/118569079', 'https://www.yes24.com/Product/Goods/125447851', 'https://www.yes24.com/Product/Goods/125105639', 'https://www.yes24.com/Product/Goods/125384672', 'https://www.yes24.com/Product/Goods/125969665', 'https://www.yes24.com/Product/Goods/125285962', 'https://www.yes24.com/Product/Goods/125691975', 'https://www.yes24.com/Product/Goods/79297023', 'https://www.yes24.com/Product/Goods/122428190', 'https://www.yes24.com/Product/Goods/125005921', 'https://www.yes24.com/Product/Goods/125384743']\n"
     ]
    }
   ],
   "source": [
    "# 3페이지까지의 링크 데이터 수집\n",
    "# https://www.yes24.com/Product/Category/BestSeller?categoryNumber=001&pageNumber=3&pageSize=24\n",
    "# https://www.yes24.com/Product/Category/BestSeller?categoryNumber=001&pageNumber=3&pageSize=24\n",
    "# https://www.yes24.com/Product/Category/BestSeller?categoryNumber=001&pageNumber=3&pageSize=24\n",
    "import time\n",
    "\n",
    "link_list = []\n",
    "for i in range(1,4):\n",
    "    print(\"*\" * 10, f\"현재 {i} 페이지 수집 중 입니다.\",\"*\" * 10)\n",
    "    url = f'https://www.yes24.com/Product/Category/BestSeller?categoryNumber=001&pageNumber={i}&pageSize=24'\n",
    "    browser.get(url)\n",
    "    ### 1페이지 전체의 링크 데이터\n",
    "    browser.find_element(By.CLASS_NAME, 'gd_name').get_attribute('href') # element 요소\n",
    "    datas = browser.find_elements(By.CLASS_NAME, 'gd_name') # elements : 리스트\n",
    "    \n",
    "    for i in datas:\n",
    "        link = i.get_attribute('href')\n",
    "        link_list.append(link)\n",
    "        \n",
    "    time.sleep(3)\n",
    "    \n",
    "print(link_list)"
   ]
  },
  {
   "cell_type": "code",
   "execution_count": 21,
   "metadata": {},
   "outputs": [
    {
     "data": {
      "text/plain": [
       "72"
      ]
     },
     "execution_count": 21,
     "metadata": {},
     "output_type": "execute_result"
    }
   ],
   "source": [
    "len(link_list)"
   ]
  },
  {
   "cell_type": "code",
   "execution_count": 77,
   "metadata": {},
   "outputs": [
    {
     "data": {
      "text/plain": [
       "'국내도서 1위 6주'"
      ]
     },
     "execution_count": 77,
     "metadata": {},
     "output_type": "execute_result"
    }
   ],
   "source": [
    "# 상세 페이지로 이동\n",
    "# for link in link_list:\n",
    "# #     # 상세 페이지로 이동\n",
    "#      browser.get(link)\n",
    "    \n",
    "browser.get(link_list[0])\n",
    "\n",
    "title = browser.find_element(By.CLASS_NAME, 'gd_name').text\n",
    "author = browser.find_element(By.CLASS_NAME, 'gd_auth').text\n",
    "publisher = browser.find_element(By.CLASS_NAME, 'gd_pub').text\n",
    "publishing = browser.find_element(By.CLASS_NAME, 'gd_date').text\n",
    "rating = browser.find_element(By.CLASS_NAME, 'yes_b').text\n",
    "reviews = browser.find_element(By.CLASS_NAME, 'txC_blue').text\n",
    "sales = browser.find_element(By.CLASS_NAME, 'gd_sellNum').text.split(\" \")[2]\n",
    "price = browser.find_element(By.CLASS_NAME, 'yes_m').text[:-1]\n",
    "\n",
    "ranking = browser.find_element(By.CLASS_NAME, 'gd_best').text.split(\" | \")[0]\n",
    "ranking_weeks = browser.find_element(By.CLASS_NAME, 'gd_best').text.split(\" | \")[1]\n"
   ]
  },
  {
   "cell_type": "code",
   "execution_count": 76,
   "metadata": {},
   "outputs": [
    {
     "data": {
      "text/plain": [
       "[\"'베스트\", '국내도서', '1위']"
      ]
     },
     "execution_count": 76,
     "metadata": {},
     "output_type": "execute_result"
    }
   ],
   "source": [
    "text = \"'베스트 국내도서 1위 | 국내도서 1위 6주'\"\n",
    "\n",
    "text.split(\" | \")[0]"
   ]
  },
  {
   "cell_type": "code",
   "execution_count": null,
   "metadata": {},
   "outputs": [],
   "source": [
    "# 상세 페이지 이동 후 데이터 크롤링\n"
   ]
  }
 ],
 "metadata": {
  "kernelspec": {
   "display_name": ".venv",
   "language": "python",
   "name": "python3"
  },
  "language_info": {
   "codemirror_mode": {
    "name": "ipython",
    "version": 3
   },
   "file_extension": ".py",
   "mimetype": "text/x-python",
   "name": "python",
   "nbconvert_exporter": "python",
   "pygments_lexer": "ipython3",
   "version": "3.9.6"
  }
 },
 "nbformat": 4,
 "nbformat_minor": 2
}
