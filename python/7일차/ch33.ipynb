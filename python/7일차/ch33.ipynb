{
 "cells": [
  {
   "cell_type": "markdown",
   "metadata": {},
   "source": [
    "프로그램 실행 전 발생하는 오류를 구문 오류\n",
    "프로그램 실행 중에 발생하는 오류를 예외 또는 런타임 오류라고 함"
   ]
  },
  {
   "cell_type": "markdown",
   "metadata": {},
   "source": [
    "실행 중에 발생하는 오류를 예외 또는 런타임 오류라고 함"
   ]
  },
  {
   "cell_type": "code",
   "execution_count": null,
   "metadata": {},
   "outputs": [],
   "source": [
    "#정상 실행"
   ]
  },
  {
   "cell_type": "markdown",
   "metadata": {},
   "source": [
    "[기본 예외 처리]\n",
    "예외ㅣ를 해결하는 모든것\n",
    "\n",
    "2가지 방법\n",
    "1. 조건문 사용\n",
    "2. try 구문 사용\n",
    "\n",
    "단 구문오류는 코드를 수정해야함 (예외처리 불가능)"
   ]
  },
  {
   "cell_type": "code",
   "execution_count": 2,
   "metadata": {},
   "outputs": [
    {
     "name": "stdout",
     "output_type": "stream",
     "text": [
      "삼각형의 넓이는 7.5 입니다\n"
     ]
    }
   ],
   "source": [
    "x, y = map(int,input(\"밑변과 높이를 입력해주세요\").split(\" \"))\n",
    "\n",
    "print(f'삼각형의 넓이는 {x * y / 2} 입니다')"
   ]
  },
  {
   "cell_type": "code",
   "execution_count": 3,
   "metadata": {},
   "outputs": [
    {
     "name": "stdout",
     "output_type": "stream",
     "text": [
      "삼각형의 넓이는 7.5 입니다\n"
     ]
    }
   ],
   "source": [
    "# x=3cm, y=5cm\n",
    "x, y = map(int,input(\"밑변과 높이를 입력해주세요\").split(\" \"))\n",
    "\n",
    "print(f'삼각형의 넓이는 {x * y / 2} 입니다')"
   ]
  },
  {
   "cell_type": "markdown",
   "metadata": {},
   "source": [
    "cm가 들어가면 인트로 변환이 안됨\n",
    "이때 필요한게 isdigit()\n",
    "\n",
    "숫자로만 구성되어 있는 글자인지를 판단하고 숫자로 변환이 가능한 글자라면 true를 반환한다."
   ]
  },
  {
   "cell_type": "code",
   "execution_count": 4,
   "metadata": {},
   "outputs": [
    {
     "ename": "ValueError",
     "evalue": "not enough values to unpack (expected 2, got 1)",
     "output_type": "error",
     "traceback": [
      "\u001b[0;31m---------------------------------------------------------------------------\u001b[0m",
      "\u001b[0;31mValueError\u001b[0m                                Traceback (most recent call last)",
      "Cell \u001b[0;32mIn[4], line 1\u001b[0m\n\u001b[0;32m----> 1\u001b[0m x, y \u001b[38;5;241m=\u001b[39m \u001b[38;5;28minput\u001b[39m(\u001b[38;5;124m\"\u001b[39m\u001b[38;5;124m밑변과 높이를 입력해주세요\u001b[39m\u001b[38;5;124m\"\u001b[39m)\u001b[38;5;241m.\u001b[39msplit(\u001b[38;5;124m\"\u001b[39m\u001b[38;5;124m \u001b[39m\u001b[38;5;124m\"\u001b[39m)\n\u001b[1;32m      3\u001b[0m \u001b[38;5;28;01mif\u001b[39;00m x\u001b[38;5;241m.\u001b[39misdigit() \u001b[38;5;129;01mand\u001b[39;00m y\u001b[38;5;241m.\u001b[39misdigit():\n\u001b[1;32m      4\u001b[0m     x, y \u001b[38;5;241m=\u001b[39m \u001b[38;5;28mint\u001b[39m(x), \u001b[38;5;28mint\u001b[39m(y)\n",
      "\u001b[0;31mValueError\u001b[0m: not enough values to unpack (expected 2, got 1)"
     ]
    }
   ],
   "source": [
    "x, y = input(\"밑변과 높이를 입력해주세요\").split(\" \")\n",
    "\n",
    "if x.isdigit() and y.isdigit():\n",
    "    x, y = int(x), int(y)\n",
    "    print(f'삼각형의 넓이는 {x * y / 2} 입니다')\n",
    "    \n",
    "else:\n",
    "    print(\"정수로 입력하지 않아 계산이 불가능해요\")\n"
   ]
  },
  {
   "cell_type": "markdown",
   "metadata": {},
   "source": [
    "try except 구문 기본 구조\n",
    "try :예외가 발생할 가능성이 있는 코드\n",
    "except : 발생했을때 실행할 코드"
   ]
  },
  {
   "cell_type": "code",
   "execution_count": 5,
   "metadata": {},
   "outputs": [
    {
     "name": "stdout",
     "output_type": "stream",
     "text": [
      "삼각형의 넓이는 7.5 입니다\n"
     ]
    }
   ],
   "source": [
    "try:\n",
    "    x, y = map(int,input(\"밑변과 높이를 입력해주세요\").split(\" \"))\n",
    "    print(f'삼각형의 넓이는 {x * y / 2} 입니다')\n",
    "    \n",
    "except:\n",
    "    print(\"정수를 입력하지 안항계산불가\")\n",
    "    \n"
   ]
  },
  {
   "cell_type": "markdown",
   "metadata": {},
   "source": [
    "예외가 발생하더라도 당장 처리하지 않아도 되는 부분이라면 pass 사용 가능\n",
    "\n",
    "try:\n",
    "    코드\n",
    "except\n",
    "    pass"
   ]
  },
  {
   "cell_type": "code",
   "execution_count": 8,
   "metadata": {},
   "outputs": [
    {
     "name": "stdout",
     "output_type": "stream",
     "text": [
      "['1', '2', '3', '4', '스파ㅇ이'] 내부에 있는 숫자는\n",
      "['1', '2', '3', '4'] 입니다\n"
     ]
    }
   ],
   "source": [
    "list_input = [\"1\", \"2\", \"3\", \"4\", \"스파ㅇ이\"]\n",
    "list_number = []\n",
    "\n",
    "for item in list_input:\n",
    "    try:\n",
    "        int(item)\n",
    "        list_number.append(item)\n",
    "    except:\n",
    "        pass\n",
    "    \n",
    "print(f'{list_input} 내부에 있는 숫자는')\n",
    "print(f'{list_number} 입니다')\n"
   ]
  },
  {
   "cell_type": "markdown",
   "metadata": {},
   "source": [
    "try : 예외 발생 가능성 코드\n",
    "except : 예외 발생시 실행할 코드\n",
    "else: 예외 발생하지 않을 경우 실행할 코드\n"
   ]
  },
  {
   "cell_type": "code",
   "execution_count": 9,
   "metadata": {},
   "outputs": [
    {
     "name": "stdout",
     "output_type": "stream",
     "text": [
      "삼각형의 넓이는 7.5 입니다\n"
     ]
    }
   ],
   "source": [
    "try:\n",
    "    x, y = map(int,input(\"밑변과 높이를 입력해주세요\").split(\" \"))\n",
    "   \n",
    "    \n",
    "except:\n",
    "    print(\"정수를 입력하지 안항계산불가\")\n",
    "\n",
    "else : \n",
    "     print(f'삼각형의 넓이는 {x * y / 2} 입니다')"
   ]
  },
  {
   "cell_type": "markdown",
   "metadata": {},
   "source": [
    "try : 예외 발생 가능성 코드\n",
    "except : 예외 발생시 실행할 코드\n",
    "else: 예외 발생하지 않을 경우 실행할 코드\n",
    "finally: 무조건 실행할 코드"
   ]
  },
  {
   "cell_type": "code",
   "execution_count": 10,
   "metadata": {},
   "outputs": [
    {
     "name": "stdout",
     "output_type": "stream",
     "text": [
      "삼각형의 넓이는 7.5 입니다\n",
      "프로그램이 종료되었습니다.\n"
     ]
    }
   ],
   "source": [
    "try:\n",
    "    x, y = map(int,input(\"밑변과 높이를 입력해주세요\").split(\" \"))\n",
    "   \n",
    "    \n",
    "except:\n",
    "    print(\"정수를 입력하지 안항계산불가\")\n",
    "\n",
    "else : \n",
    "     print(f'삼각형의 넓이는 {x * y / 2} 입니다')\n",
    "finally:\n",
    "    print(\"프로그램이 종료되었습니다.\")"
   ]
  },
  {
   "cell_type": "markdown",
   "metadata": {},
   "source": [
    "return 구문으로 함수를 빠져나와도 finally 구문이 있다면 무조건 실행\n",
    "반복문이 break문을 만나 빠져나와도 finally 구문이 있다면 무조건 실행"
   ]
  },
  {
   "cell_type": "code",
   "execution_count": null,
   "metadata": {},
   "outputs": [],
   "source": []
  }
 ],
 "metadata": {
  "kernelspec": {
   "display_name": "Python 3",
   "language": "python",
   "name": "python3"
  },
  "language_info": {
   "codemirror_mode": {
    "name": "ipython",
    "version": 3
   },
   "file_extension": ".py",
   "mimetype": "text/x-python",
   "name": "python",
   "nbconvert_exporter": "python",
   "pygments_lexer": "ipython3",
   "version": "3.9.6"
  }
 },
 "nbformat": 4,
 "nbformat_minor": 2
}
