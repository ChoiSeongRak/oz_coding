{
 "cells": [
  {
   "cell_type": "markdown",
   "metadata": {},
   "source": [
    "[예외객체]\n",
    "* Exception 을 사용하면 예외의 종류를 알 수 있다."
   ]
  },
  {
   "cell_type": "code",
   "execution_count": null,
   "metadata": {},
   "outputs": [],
   "source": [
    "try:\n",
    "    x, y = map(int,input(\"밑변과 높이를 입력해주세요\").split(\" \"))\n",
    "    print(f'삼각형의 넓이는 {x * y / 2} 입니다')\n",
    "    \n",
    "except:\n",
    "    print(\"정수를 입력하지 안항계산불가\")\n",
    "    \n"
   ]
  },
  {
   "cell_type": "code",
   "execution_count": 1,
   "metadata": {},
   "outputs": [
    {
     "name": "stdout",
     "output_type": "stream",
     "text": [
      "type(exception) <class 'ValueError'>\n",
      "exception invalid literal for int() with base 10: 'cm'\n"
     ]
    }
   ],
   "source": [
    "try:\n",
    "    x, y = map(int,input(\"밑변과 높이를 입력해주세요\").split(\" \"))\n",
    "    print(f'삼각형의 넓이는 {x * y / 2} 입니다')\n",
    "    \n",
    "except Exception as exception:\n",
    "    print(\"type(exception)\", type(exception))\n",
    "    print(\"exception\", exception)\n",
    "    \n",
    "    \n"
   ]
  },
  {
   "cell_type": "code",
   "execution_count": 4,
   "metadata": {},
   "outputs": [
    {
     "name": "stdout",
     "output_type": "stream",
     "text": [
      "3번째 요소: 4\n"
     ]
    }
   ],
   "source": [
    "numbers = [23, 11, 7, 4, 12]\n",
    "\n",
    "try:\n",
    "    number_input = int(input(\"찾고싶은 값의 위치를 입력해주세요\"))\n",
    "    print(f'{number_input}번째 요소: {numbers[number_input]}')\n",
    "except Exception as exception:\n",
    "    print(\"type(exception)\", type(exception))\n",
    "    print(\"exception\", exception)"
   ]
  },
  {
   "cell_type": "code",
   "execution_count": 6,
   "metadata": {},
   "outputs": [
    {
     "name": "stdout",
     "output_type": "stream",
     "text": [
      "리스트의 범위를 벗어났습니다. 입력값을 다시확인해주세요\n"
     ]
    }
   ],
   "source": [
    "numbers = [23, 11, 7, 4, 12]\n",
    "\n",
    "try:\n",
    "    number_input = int(input(\"찾고싶은 값의 위치를 입력해주세요\"))\n",
    "    print(f'{number_input}번째 요소: {numbers[number_input]}')\n",
    "except ValueError:\n",
    "    print(\"정수로 입력해주세요\")\n",
    "except IndexError:\n",
    "    print(\"리스트의 범위를 벗어났습니다. 입력값을 다시확인해주세요\")\n",
    "\n",
    "    "
   ]
  },
  {
   "cell_type": "code",
   "execution_count": 7,
   "metadata": {},
   "outputs": [
    {
     "name": "stdout",
     "output_type": "stream",
     "text": [
      "정수로 입력해주세요\n",
      "Exception: invalid literal for int() with base 10: 'oz'\n"
     ]
    }
   ],
   "source": [
    "numbers = [23, 11, 7, 4, 12]\n",
    "\n",
    "try:\n",
    "    number_input = int(input(\"찾고싶은 값의 위치를 입력해주세요\"))\n",
    "    print(f'{number_input}번째 요소: {numbers[number_input]}')\n",
    "except ValueError as exception:\n",
    "    print(\"정수로 입력해주세요\")\n",
    "    print(\"Exception:\", exception)\n",
    "except IndexError as exception:\n",
    "    print(\"리스트의 범위를 벗어났습니다. 입력값을 다시확인해주세요\")\n",
    "    print(\"Exception:\", exception)\n",
    "    \n",
    "\n",
    "    "
   ]
  },
  {
   "cell_type": "code",
   "execution_count": 10,
   "metadata": {},
   "outputs": [
    {
     "name": "stdout",
     "output_type": "stream",
     "text": [
      "3번째 요소: 4\n",
      "대체 불가한 예외가 발생했습니다.\n",
      "Exception: name '에' is not defined\n"
     ]
    }
   ],
   "source": [
    "numbers = [23, 11, 7, 4, 12]\n",
    "\n",
    "try:\n",
    "    number_input = int(input(\"찾고싶은 값의 위치를 입력해주세요\"))\n",
    "    print(f'{number_input}번째 요소: {numbers[number_input]}')\n",
    "    에.발생\n",
    "except ValueError as exception:\n",
    "    print(\"정수로 입력해주세요\")\n",
    "    print(\"Exception:\", exception)\n",
    "except IndexError as exception:\n",
    "    print(\"리스트의 범위를 벗어났습니다. 입력값을 다시확인해주세요\")\n",
    "    print(\"Exception:\", exception)\n",
    "except Exception as exception:\n",
    "    print(\"대체 불가한 예외가 발생했습니다.\")\n",
    "    print(\"Exception:\", exception)\n",
    "    \n",
    "\n",
    "    "
   ]
  },
  {
   "cell_type": "markdown",
   "metadata": {},
   "source": [
    "\n",
    "파이썬에서 발생할 수 있는 주요 예외 종류와 간단한 설명은 다음과 같습니다:\n",
    "\n",
    "SyntaxError: 코드의 구문 오류로 인해 발생하는 예외입니다. 일반적으로 오타나 잘못된 문법 사용 등으로 발생합니다.\n",
    "\n",
    "IndentationError: 들여쓰기 오류로 인해 발생하는 예외입니다. 파이썬은 들여쓰기를 통해 코드 블록을 구분하므로, 들여쓰기에 관련된 오류가 발생할 경우 이 예외가 발생합니다.\n",
    "\n",
    "NameError: 정의되지 않은 변수나 함수를 사용하려고 할 때 발생하는 예외입니다. 변수나 함수의 이름이 올바르게 정의되지 않았을 때 발생합니다.\n",
    "\n",
    "TypeError: 데이터 타입이 올바르지 않거나 연산이 올바르게 수행되지 않을 때 발생하는 예외입니다. 예를 들어, 숫자와 문자열을 더하거나 잘못된 데이터 타입의 변수를 사용하는 경우에 발생합니다.\n",
    "\n",
    "IndexError: 리스트나 튜플 등의 시퀀스에서 존재하지 않는 인덱스에 접근하려고 할 때 발생하는 예외입니다.\n",
    "\n",
    "KeyError: 사전에서 존재하지 않는 키를 사용하여 요소에 접근하려고 할 때 발생하는 예외입니다.\n",
    "\n",
    "ValueError: 데이터 타입은 올바르지만 값이 올바르지 않을 때 발생하는 예외입니다. 예를 들어, 정수로 변환할 수 없는 문자열을 정수로 변환하려고 할 때 발생합니다.\n",
    "\n",
    "ZeroDivisionError: 0으로 나누려고 할 때 발생하는 예외입니다.\n",
    "\n",
    "FileNotFoundError: 파일을 찾을 수 없을 때 발생하는 예외입니다.\n",
    "\n",
    "IOError: 입출력 관련 오류가 발생할 때 발생하는 예외입니다. 파일을 읽거나 쓸 때 발생할 수 있습니다.\n",
    "\n",
    "AttributeError: 객체에 존재하지 않는 속성에 접근하려고 할 때 발생하는 예외입니다.\n",
    "\n",
    "KeyboardInterrupt: 사용자가 인터럽트 키(Ctrl+C)를 입력하여 프로그램을 중단할 때 발생하는 예외입니다."
   ]
  }
 ],
 "metadata": {
  "kernelspec": {
   "display_name": "Python 3",
   "language": "python",
   "name": "python3"
  },
  "language_info": {
   "codemirror_mode": {
    "name": "ipython",
    "version": 3
   },
   "file_extension": ".py",
   "mimetype": "text/x-python",
   "name": "python",
   "nbconvert_exporter": "python",
   "pygments_lexer": "ipython3",
   "version": "3.9.6"
  }
 },
 "nbformat": 4,
 "nbformat_minor": 2
}
