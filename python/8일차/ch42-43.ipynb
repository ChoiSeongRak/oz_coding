{
 "cells": [
  {
   "cell_type": "markdown",
   "metadata": {},
   "source": [
    "객체란 : \n",
    "구현하고자 하는 대상의 속성과 기능을 가지는 프로그램 단위\n",
    "\n",
    "객체를 구성하는 속성과 기능에 대해 설명해주세요:\n",
    "속성에는 사람으로 비교하자면 눈 코 입 등이 있고\n",
    "기능에는 눈으로 보기 코로 숨쉬기 등등이 있다.\n",
    "\n",
    "추상화에 대해 설명해주세요 :\n",
    "추상화란 객체를 구성하고 있는 속성이 많은 경우\n",
    "필요한 속성만을 이용해 객체를 표현하는 개념\n",
    "\n",
    "객체 지향 프로그램에 대해 설명해주세요\n",
    "클래스 기반의 객체를 우선으로 생각하는 프로그래밍\n",
    "\n",
    "클래스를 선언하는 구조에 대해 설명해주세요:\n",
    "class 클래스 이름:\n",
    "    클래스 내용\n",
    "\n",
    "클래스의 이름의 앞글자는 무조건 대문자\n",
    "\n",
    "\n",
    "인스턴스에 대해 설명해주세요:\n",
    "클래스를 이용해 만든 객체"
   ]
  },
  {
   "cell_type": "code",
   "execution_count": 1,
   "metadata": {},
   "outputs": [
    {
     "name": "stdout",
     "output_type": "stream",
     "text": [
      "('백현우',)\n",
      "(4,)\n",
      "(3,)\n",
      "(3,)\n",
      "2\n"
     ]
    }
   ],
   "source": [
    "class CreateOzStudents:\n",
    "    def __init__(self, name, python, database, django, AWS):\n",
    "        self.name = name,\n",
    "        self.python = python,\n",
    "        self.database = database,\n",
    "        self.Django = django,\n",
    "        self.AWS = AWS\n",
    "\n",
    "oz_students = [\n",
    "    CreateOzStudents(\"백현우\", 4, 3, 3, 2),\n",
    "    CreateOzStudents(\"홍혜인\", 4, 5, 2, 4),\n",
    "    CreateOzStudents(\"윤은성\",3, 4, 4, 1),\n",
    "    CreateOzStudents(\"홍수현\",3, 3, 1, 5)\n",
    "]\n",
    "\n",
    "print(oz_students[0].name)\n",
    "print(oz_students[0].python)\n",
    "print(oz_students[0].database)\n",
    "print(oz_students[0].Django)\n",
    "print(oz_students[0].AWS)"
   ]
  },
  {
   "cell_type": "code",
   "execution_count": 4,
   "metadata": {},
   "outputs": [
    {
     "name": "stdout",
     "output_type": "stream",
     "text": [
      "이름\t총점\t평균\n",
      "백현우\t12\t3.0\n",
      "홍혜인\t15\t3.75\n",
      "윤은성\t12\t3.0\n",
      "홍수현\t11\t2.75\n"
     ]
    }
   ],
   "source": [
    "class CreateOzStudents:\n",
    "    def __init__(self, name, python, database, django, AWS):\n",
    "        self.name = name\n",
    "        self.python = python\n",
    "        self.database = database\n",
    "        self.Django = django\n",
    "        self.AWS = AWS\n",
    "        \n",
    "    def get_sum(self):\n",
    "        return self.python + self.database + self.Django + self.AWS\n",
    "    \n",
    "    def get_average(self):\n",
    "        return self.get_sum() / 4\n",
    "    \n",
    "    def to_string(self):\n",
    "        return f'{self.name}\\t{self.get_sum()}\\t{self.get_average()}'\n",
    "\n",
    "oz_students = [\n",
    "    CreateOzStudents(\"백현우\", 4, 3, 3, 2),\n",
    "    CreateOzStudents(\"홍혜인\", 4, 5, 2, 4),\n",
    "    CreateOzStudents(\"윤은성\",3, 4, 4, 1),\n",
    "    CreateOzStudents(\"홍수현\",2, 3, 1, 5)\n",
    "]\n",
    "\n",
    "\n",
    "print(\"이름\", \"총점\", \"평균\", sep=\"\\t\")\n",
    "for student in oz_students:\n",
    "    print(student.to_string())"
   ]
  },
  {
   "cell_type": "code",
   "execution_count": null,
   "metadata": {},
   "outputs": [],
   "source": []
  }
 ],
 "metadata": {
  "kernelspec": {
   "display_name": "Python 3",
   "language": "python",
   "name": "python3"
  },
  "language_info": {
   "codemirror_mode": {
    "name": "ipython",
    "version": 3
   },
   "file_extension": ".py",
   "mimetype": "text/x-python",
   "name": "python",
   "nbconvert_exporter": "python",
   "pygments_lexer": "ipython3",
   "version": "3.9.6"
  }
 },
 "nbformat": 4,
 "nbformat_minor": 2
}
