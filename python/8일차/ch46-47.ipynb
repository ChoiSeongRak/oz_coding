{
 "cells": [
  {
   "cell_type": "code",
   "execution_count": 1,
   "metadata": {},
   "outputs": [
    {
     "name": "stdout",
     "output_type": "stream",
     "text": [
      "원의 둘레: 62.83185307179586\n",
      "원의 넓이: 314.1592653589793\n"
     ]
    }
   ],
   "source": [
    "import math\n",
    "\n",
    "class OzCircle:\n",
    "    def __init__(self, radius):\n",
    "        self.radius = radius\n",
    "    def get_circumference(self):\n",
    "        return 2 * math.pi * self.radius\n",
    "    def get_area(self):\n",
    "        return math.pi * (self.radius ** 2)\n",
    "    \n",
    "circle = OzCircle(10)\n",
    "# circle.radius = -2\n",
    "print(\"원의 둘레:\", circle.get_circumference())\n",
    "print(\"원의 넓이:\", circle.get_area())\n"
   ]
  },
  {
   "cell_type": "code",
   "execution_count": 5,
   "metadata": {},
   "outputs": [
    {
     "name": "stdout",
     "output_type": "stream",
     "text": [
      "Parent 클래스 __init()__ 메소드가 호출되었ㅅ브니다.\n",
      "Child 클래스의 __init__() 메소드가 호출되었습니다.\n",
      "Parent 클래스의 test() 메소드입니다.\n",
      "테스트\n"
     ]
    }
   ],
   "source": [
    "# 자식클래스를 만들 때 부모클래스\n",
    "class Parent:\n",
    "    def __init__(self):\n",
    "        self.value = \"테스트\"\n",
    "        print(\"Parent 클래스 __init()__ 메소드가 호출되었ㅅ브니다.\")\n",
    "    def test(self):\n",
    "        print(\"Parent 클래스의 test() 메소드입니다.\")\n",
    "        \n",
    "class Child(Parent):\n",
    "    def __init__(self):\n",
    "        super().__init__()\n",
    "        print(\"Child 클래스의 __init__() 메소드가 호출되었습니다.\")\n",
    "        \n",
    "child = Child()\n",
    "child.test()\n",
    "\n",
    "print(child.value)"
   ]
  },
  {
   "cell_type": "code",
   "execution_count": null,
   "metadata": {},
   "outputs": [],
   "source": []
  }
 ],
 "metadata": {
  "kernelspec": {
   "display_name": "Python 3",
   "language": "python",
   "name": "python3"
  },
  "language_info": {
   "codemirror_mode": {
    "name": "ipython",
    "version": 3
   },
   "file_extension": ".py",
   "mimetype": "text/x-python",
   "name": "python",
   "nbconvert_exporter": "python",
   "pygments_lexer": "ipython3",
   "version": "3.9.6"
  }
 },
 "nbformat": 4,
 "nbformat_minor": 2
}
