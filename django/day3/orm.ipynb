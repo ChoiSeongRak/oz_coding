{
 "cells": [
  {
   "cell_type": "markdown",
   "metadata": {},
   "source": [
    "### 1. 사용자 추가하기\n",
    "\n",
    "문제 : 사용자 3명을 추가해주세요"
   ]
  },
  {
   "cell_type": "markdown",
   "metadata": {},
   "source": [
    "new_user = Account(username='박지수', email='jisoo_2@naver.com', phone_number = '010-2354-2234')\n",
    "new_user.set_password('pw123')\n",
    "new_user.save()"
   ]
  },
  {
   "cell_type": "markdown",
   "metadata": {},
   "source": [
    "- username : 강철\n",
    "    - `email` : ggch@naver.com\n",
    "    - `phone_number` : 010-1114-6443\n",
    "    - `password`(’pwpw’)"
   ]
  },
  {
   "cell_type": "code",
   "execution_count": null,
   "metadata": {},
   "outputs": [],
   "source": [
    "new_user = Account(username='강철', email='ggch@naver.com', phone_number = '010-1114-6443')\n",
    "new_user.set_password('pwpw')\n",
    "new_user.save()"
   ]
  },
  {
   "cell_type": "markdown",
   "metadata": {},
   "source": [
    "- username : 민현지\n",
    "    - `email` : master_g@gmail.com\n",
    "    - `phone_number` : 010-8495-3456"
   ]
  },
  {
   "cell_type": "code",
   "execution_count": null,
   "metadata": {},
   "outputs": [],
   "source": [
    "new_user = Account(username='민현지', email='master_g@gmail.com', phone_number = '010-8495-3456')\n",
    "new_user.save()"
   ]
  },
  {
   "cell_type": "markdown",
   "metadata": {},
   "source": [
    "### 2.특정 사용자 조회하기"
   ]
  },
  {
   "cell_type": "markdown",
   "metadata": {},
   "source": [
    "문제: '박지수' 사용자의 전체 정보를 조회하세요."
   ]
  },
  {
   "cell_type": "code",
   "execution_count": null,
   "metadata": {},
   "outputs": [],
   "source": [
    "jisoo = Account.objects.get(username='박지수')\n",
    "jisoo\n",
    "jisoo.email\n",
    "jisoo.phone_number"
   ]
  },
  {
   "cell_type": "markdown",
   "metadata": {},
   "source": [
    "문제 : ‘강철’ 사용자의 이메일 주소를 'steel_kang@naver.com'으로 변경해주세요"
   ]
  },
  {
   "cell_type": "code",
   "execution_count": null,
   "metadata": {},
   "outputs": [],
   "source": [
    "kangcheol = Account.objects.get(username='강철')\n",
    "kangcheol.email = 'steel_kang@naver.com'\n",
    "kangcheol.save()\n"
   ]
  },
  {
   "cell_type": "markdown",
   "metadata": {},
   "source": [
    "문제 : '민현지' 사용자의 비밀번호를 'newpassword'로 변경해주세요"
   ]
  },
  {
   "cell_type": "code",
   "execution_count": null,
   "metadata": {},
   "outputs": [],
   "source": [
    "ji = Account.objects.get(username='민현지')\n",
    "ji.set_passward('newpassword')"
   ]
  },
  {
   "cell_type": "markdown",
   "metadata": {},
   "source": [
    "문제 : 모든 사용자의 이름과 이메일 주소 조회 후 출력해주세요"
   ]
  },
  {
   "cell_type": "code",
   "execution_count": null,
   "metadata": {},
   "outputs": [],
   "source": [
    "users = Account.objects.all()\n",
    "for i in users:\n",
    "    print(i.email, i.username)"
   ]
  },
  {
   "cell_type": "markdown",
   "metadata": {},
   "source": [
    "문제 : 전화번호가 등록된 사용자만 조회 후 출력해주세요"
   ]
  },
  {
   "cell_type": "code",
   "execution_count": null,
   "metadata": {},
   "outputs": [],
   "source": [
    "phone_user = Account.objects.exclude(phone_number__isnull=True)\n",
    "for i in phone_user:\n",
    "    print(i)"
   ]
  },
  {
   "cell_type": "markdown",
   "metadata": {},
   "source": [
    "문제 : 특정 이메일 도메인(@gmail.com)을 가진 사용자를 조회 후 출력해주세요"
   ]
  },
  {
   "cell_type": "code",
   "execution_count": null,
   "metadata": {},
   "outputs": [],
   "source": [
    "email = Account.objects.filter(email__endswith='@gmail.com')\n",
    "for i in email:\n",
    "    print(i)"
   ]
  },
  {
   "cell_type": "markdown",
   "metadata": {},
   "source": [
    "문제 : 사용자 이름에 '지'가 포함된 사용자를 조회 후 출력해주세요"
   ]
  },
  {
   "cell_type": "code",
   "execution_count": null,
   "metadata": {},
   "outputs": [],
   "source": [
    "user = Account.objects.filter(username__contains='지')\n",
    "for i in user:\n",
    "    print(i)"
   ]
  },
  {
   "cell_type": "markdown",
   "metadata": {},
   "source": [
    "문제 : 최근 등록된 사용자 2명을 조회 후 출력해주세요"
   ]
  },
  {
   "cell_type": "code",
   "execution_count": null,
   "metadata": {},
   "outputs": [],
   "source": [
    "user = Account.objects.order_by('-date_joined')[:2]\n",
    "for i in user:\n",
    "    print(i)"
   ]
  },
  {
   "cell_type": "markdown",
   "metadata": {},
   "source": [
    "### 3.특정 사용자 조회하기\n",
    "\n",
    "1. 관계 설정된 모델에 데이터 추가하기"
   ]
  },
  {
   "cell_type": "markdown",
   "metadata": {},
   "source": [
    "- 박지수 사용자의 address 정보를 추가해주세요\n",
    "    - `user` : jisoo\n",
    "    - `street` : 23-2\n",
    "    - `city` : 서울시\n",
    "    - `state` : 영등포구\n",
    "    - `postal_code` : 04231\n",
    "    - `country` : 대한민국"
   ]
  },
  {
   "cell_type": "code",
   "execution_count": null,
   "metadata": {},
   "outputs": [],
   "source": [
    "from addresses.models import Address\n",
    "\n",
    "new_address = Address(user=jisoo,street=\"23-2\",city=\"서울시\",state=\"영등포구\",postal_code=\"04231\",country=\"대한민국\")\n",
    "new_address.save()"
   ]
  },
  {
   "cell_type": "markdown",
   "metadata": {},
   "source": [
    "- 민현지 사용자의 address 정보를 추가해주세요\n",
    "    - `user` : hyunji\n",
    "    - `street` : 43-1\n",
    "    - `city` : 부산특별시\n",
    "    - `state` : 사직동\n",
    "    - `postal_code` : 61234\n",
    "    - `country` : 대한민국"
   ]
  },
  {
   "cell_type": "code",
   "execution_count": null,
   "metadata": {},
   "outputs": [],
   "source": [
    "\n",
    "new_address = Address(user=ji,street=\"43-1\",city=\"부산특별시\",state=\"사직동\",postal_code=\"61234\",country=\"대한민국\")\n",
    "new_address.save()"
   ]
  },
  {
   "cell_type": "markdown",
   "metadata": {},
   "source": [
    "- 강철 사용자의 address 정보를 추가해주세요\n",
    "    - `user` : kang_chul\n",
    "    - `street` : 99-2\n",
    "    - `city` : 서울\n",
    "    - `state` : 강남구\n",
    "    - `postal_code` : 68975\n",
    "    - `country` : 대한민국"
   ]
  },
  {
   "cell_type": "code",
   "execution_count": null,
   "metadata": {},
   "outputs": [],
   "source": [
    "new_address = Address(user=kangcheol,street=\"99-2\",city=\"서울\",state=\"강남구\",postal_code=\"68975\",country=\"대한민국\")\n",
    "new_address.save()"
   ]
  },
  {
   "cell_type": "markdown",
   "metadata": {},
   "source": [
    "### 4. 관계 설정된 모델에 데이터 조회하기\n",
    "\n",
    "'박지수' 사용자에 연결된 모든 주소 정보를 조회 후 출력해주세요"
   ]
  },
  {
   "cell_type": "code",
   "execution_count": null,
   "metadata": {},
   "outputs": [],
   "source": [
    "ad = Address.objects.filter(user=jisoo)\n",
    "for i in ad:\n",
    "    print(i)"
   ]
  },
  {
   "cell_type": "markdown",
   "metadata": {},
   "source": [
    "### 5.사용자 정보 삭제하기\n",
    "\n",
    "‘강철’ 사용자의 장보를 삭제해주세요"
   ]
  },
  {
   "cell_type": "markdown",
   "metadata": {},
   "source": [
    "kangcheol.delete()"
   ]
  }
 ],
 "metadata": {
  "language_info": {
   "name": "python"
  }
 },
 "nbformat": 4,
 "nbformat_minor": 2
}
